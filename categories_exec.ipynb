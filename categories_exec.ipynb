{
 "cells": [
  {
   "cell_type": "code",
   "execution_count": null,
   "metadata": {},
   "outputs": [],
   "source": [
    "def generate_categories(gender, category, brands, id):\n",
    "    base_url = f\"https://www.macys.com/shop/{gender}-clothing/all-{gender}-clothing/{category}/Brand,Pageindex/\"\n",
    "    \n",
    "    # Convert brands to the required format\n",
    "    formatted_brands = \"%7C\".join(brands)\n",
    "    \n",
    "    categories = []\n",
    "    for i in range(1, 24):  # Assuming a maximum of 23 pages\n",
    "        url = f\"{base_url}{formatted_brands},{i}?id={id}\"\n",
    "        categories.append(url)\n",
    "    \n",
    "    return categories\n",
    "\n",
    "# User input\n",
    "gender = input(\"Enter gender (mens/womens): \")\n",
    "category = input(\"Enter category (e.g., dresses, mens-activewear): \")\n",
    "brands_input = input(\"Enter brands (comma-separated): \")\n",
    "id = input(\"Enter ID: \")\n",
    "\n",
    "# Process user input\n",
    "brands = [brand.strip() for brand in brands_input.split(\",\")]\n",
    "\n",
    "# Generate categories\n",
    "categories = generate_categories(gender, category, brands, id)\n",
    "\n",
    "# Write categories to file\n",
    "with open(\"categories.txt\", \"w\") as file:\n",
    "    file.write(\"categories = [\\n\")\n",
    "    for category in categories:\n",
    "        file.write(f\"    '{category}',\\n\")\n",
    "    file.write(\"]\")\n",
    "\n",
    "print(\"categories.txt file generated successfully.\")"
   ]
  }
 ],
 "metadata": {
  "kernelspec": {
   "display_name": "venv",
   "language": "python",
   "name": "python3"
  },
  "language_info": {
   "name": "python",
   "version": "3.12.2"
  }
 },
 "nbformat": 4,
 "nbformat_minor": 2
}
